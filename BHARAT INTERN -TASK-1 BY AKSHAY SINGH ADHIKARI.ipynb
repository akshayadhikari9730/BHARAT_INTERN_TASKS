{
 "cells": [
  {
   "cell_type": "markdown",
   "id": "45cfd682",
   "metadata": {},
   "source": [
    "# TASK 1- PREDICTION OF STOCK PRICE USING LSTM "
   ]
  },
  {
   "cell_type": "code",
   "execution_count": 1,
   "id": "59c7cc70",
   "metadata": {},
   "outputs": [],
   "source": [
    "# Description- This data talks about stock prices of google of certain period of time from 2012 to 2016"
   ]
  },
  {
   "cell_type": "code",
   "execution_count": 2,
   "id": "a5206389",
   "metadata": {},
   "outputs": [],
   "source": [
    "# import the necessary libraries-\n",
    "import pandas as pd\n",
    "import numpy as np\n",
    "import matplotlib.pyplot as plt\n"
   ]
  },
  {
   "cell_type": "code",
   "execution_count": 3,
   "id": "7b15d94a",
   "metadata": {},
   "outputs": [
    {
     "data": {
      "text/html": [
       "<div>\n",
       "<style scoped>\n",
       "    .dataframe tbody tr th:only-of-type {\n",
       "        vertical-align: middle;\n",
       "    }\n",
       "\n",
       "    .dataframe tbody tr th {\n",
       "        vertical-align: top;\n",
       "    }\n",
       "\n",
       "    .dataframe thead th {\n",
       "        text-align: right;\n",
       "    }\n",
       "</style>\n",
       "<table border=\"1\" class=\"dataframe\">\n",
       "  <thead>\n",
       "    <tr style=\"text-align: right;\">\n",
       "      <th></th>\n",
       "      <th>Date</th>\n",
       "      <th>Open</th>\n",
       "      <th>High</th>\n",
       "      <th>Low</th>\n",
       "      <th>Close</th>\n",
       "      <th>Volume</th>\n",
       "    </tr>\n",
       "  </thead>\n",
       "  <tbody>\n",
       "    <tr>\n",
       "      <th>0</th>\n",
       "      <td>01-03-2012</td>\n",
       "      <td>325.25</td>\n",
       "      <td>332.83</td>\n",
       "      <td>324.97</td>\n",
       "      <td>663.59</td>\n",
       "      <td>73,80,500</td>\n",
       "    </tr>\n",
       "    <tr>\n",
       "      <th>1</th>\n",
       "      <td>01-04-2012</td>\n",
       "      <td>331.27</td>\n",
       "      <td>333.87</td>\n",
       "      <td>329.08</td>\n",
       "      <td>666.45</td>\n",
       "      <td>57,49,400</td>\n",
       "    </tr>\n",
       "    <tr>\n",
       "      <th>2</th>\n",
       "      <td>01-05-2012</td>\n",
       "      <td>329.83</td>\n",
       "      <td>330.75</td>\n",
       "      <td>326.89</td>\n",
       "      <td>657.21</td>\n",
       "      <td>65,90,300</td>\n",
       "    </tr>\n",
       "    <tr>\n",
       "      <th>3</th>\n",
       "      <td>01-06-2012</td>\n",
       "      <td>328.34</td>\n",
       "      <td>328.77</td>\n",
       "      <td>323.68</td>\n",
       "      <td>648.24</td>\n",
       "      <td>54,05,900</td>\n",
       "    </tr>\n",
       "    <tr>\n",
       "      <th>4</th>\n",
       "      <td>01-09-2012</td>\n",
       "      <td>322.04</td>\n",
       "      <td>322.29</td>\n",
       "      <td>309.46</td>\n",
       "      <td>620.76</td>\n",
       "      <td>1,16,88,800</td>\n",
       "    </tr>\n",
       "    <tr>\n",
       "      <th>...</th>\n",
       "      <td>...</td>\n",
       "      <td>...</td>\n",
       "      <td>...</td>\n",
       "      <td>...</td>\n",
       "      <td>...</td>\n",
       "      <td>...</td>\n",
       "    </tr>\n",
       "    <tr>\n",
       "      <th>1253</th>\n",
       "      <td>12/23/2016</td>\n",
       "      <td>790.90</td>\n",
       "      <td>792.74</td>\n",
       "      <td>787.28</td>\n",
       "      <td>789.91</td>\n",
       "      <td>6,23,400</td>\n",
       "    </tr>\n",
       "    <tr>\n",
       "      <th>1254</th>\n",
       "      <td>12/27/2016</td>\n",
       "      <td>790.68</td>\n",
       "      <td>797.86</td>\n",
       "      <td>787.66</td>\n",
       "      <td>791.55</td>\n",
       "      <td>7,89,100</td>\n",
       "    </tr>\n",
       "    <tr>\n",
       "      <th>1255</th>\n",
       "      <td>12/28/2016</td>\n",
       "      <td>793.70</td>\n",
       "      <td>794.23</td>\n",
       "      <td>783.20</td>\n",
       "      <td>785.05</td>\n",
       "      <td>11,53,800</td>\n",
       "    </tr>\n",
       "    <tr>\n",
       "      <th>1256</th>\n",
       "      <td>12/29/2016</td>\n",
       "      <td>783.33</td>\n",
       "      <td>785.93</td>\n",
       "      <td>778.92</td>\n",
       "      <td>782.79</td>\n",
       "      <td>7,44,300</td>\n",
       "    </tr>\n",
       "    <tr>\n",
       "      <th>1257</th>\n",
       "      <td>12/30/2016</td>\n",
       "      <td>782.75</td>\n",
       "      <td>782.78</td>\n",
       "      <td>770.41</td>\n",
       "      <td>771.82</td>\n",
       "      <td>17,70,000</td>\n",
       "    </tr>\n",
       "  </tbody>\n",
       "</table>\n",
       "<p>1258 rows × 6 columns</p>\n",
       "</div>"
      ],
      "text/plain": [
       "            Date    Open    High     Low   Close       Volume\n",
       "0     01-03-2012  325.25  332.83  324.97  663.59    73,80,500\n",
       "1     01-04-2012  331.27  333.87  329.08  666.45    57,49,400\n",
       "2     01-05-2012  329.83  330.75  326.89  657.21    65,90,300\n",
       "3     01-06-2012  328.34  328.77  323.68  648.24    54,05,900\n",
       "4     01-09-2012  322.04  322.29  309.46  620.76  1,16,88,800\n",
       "...          ...     ...     ...     ...     ...          ...\n",
       "1253  12/23/2016  790.90  792.74  787.28  789.91     6,23,400\n",
       "1254  12/27/2016  790.68  797.86  787.66  791.55     7,89,100\n",
       "1255  12/28/2016  793.70  794.23  783.20  785.05    11,53,800\n",
       "1256  12/29/2016  783.33  785.93  778.92  782.79     7,44,300\n",
       "1257  12/30/2016  782.75  782.78  770.41  771.82    17,70,000\n",
       "\n",
       "[1258 rows x 6 columns]"
      ]
     },
     "execution_count": 3,
     "metadata": {},
     "output_type": "execute_result"
    }
   ],
   "source": [
    "#loading the dataset\n",
    "df=pd.read_csv(\"stock_price.csv\")\n",
    "df"
   ]
  },
  {
   "cell_type": "code",
   "execution_count": 4,
   "id": "ae76557a",
   "metadata": {},
   "outputs": [
    {
     "name": "stdout",
     "output_type": "stream",
     "text": [
      "<class 'pandas.core.frame.DataFrame'>\n",
      "RangeIndex: 1258 entries, 0 to 1257\n",
      "Data columns (total 6 columns):\n",
      " #   Column  Non-Null Count  Dtype  \n",
      "---  ------  --------------  -----  \n",
      " 0   Date    1258 non-null   object \n",
      " 1   Open    1258 non-null   float64\n",
      " 2   High    1258 non-null   float64\n",
      " 3   Low     1258 non-null   float64\n",
      " 4   Close   1258 non-null   object \n",
      " 5   Volume  1258 non-null   object \n",
      "dtypes: float64(3), object(3)\n",
      "memory usage: 59.1+ KB\n"
     ]
    }
   ],
   "source": [
    "# to check description of data\n",
    "df.info()"
   ]
  },
  {
   "cell_type": "code",
   "execution_count": 5,
   "id": "35a02684",
   "metadata": {},
   "outputs": [
    {
     "data": {
      "text/html": [
       "<div>\n",
       "<style scoped>\n",
       "    .dataframe tbody tr th:only-of-type {\n",
       "        vertical-align: middle;\n",
       "    }\n",
       "\n",
       "    .dataframe tbody tr th {\n",
       "        vertical-align: top;\n",
       "    }\n",
       "\n",
       "    .dataframe thead th {\n",
       "        text-align: right;\n",
       "    }\n",
       "</style>\n",
       "<table border=\"1\" class=\"dataframe\">\n",
       "  <thead>\n",
       "    <tr style=\"text-align: right;\">\n",
       "      <th></th>\n",
       "      <th>Open</th>\n",
       "      <th>High</th>\n",
       "      <th>Low</th>\n",
       "    </tr>\n",
       "  </thead>\n",
       "  <tbody>\n",
       "    <tr>\n",
       "      <th>count</th>\n",
       "      <td>1258.000000</td>\n",
       "      <td>1258.000000</td>\n",
       "      <td>1258.000000</td>\n",
       "    </tr>\n",
       "    <tr>\n",
       "      <th>mean</th>\n",
       "      <td>533.709833</td>\n",
       "      <td>537.880223</td>\n",
       "      <td>529.007409</td>\n",
       "    </tr>\n",
       "    <tr>\n",
       "      <th>std</th>\n",
       "      <td>151.904442</td>\n",
       "      <td>153.008811</td>\n",
       "      <td>150.552807</td>\n",
       "    </tr>\n",
       "    <tr>\n",
       "      <th>min</th>\n",
       "      <td>279.120000</td>\n",
       "      <td>281.210000</td>\n",
       "      <td>277.220000</td>\n",
       "    </tr>\n",
       "    <tr>\n",
       "      <th>25%</th>\n",
       "      <td>404.115000</td>\n",
       "      <td>406.765000</td>\n",
       "      <td>401.765000</td>\n",
       "    </tr>\n",
       "    <tr>\n",
       "      <th>50%</th>\n",
       "      <td>537.470000</td>\n",
       "      <td>540.750000</td>\n",
       "      <td>532.990000</td>\n",
       "    </tr>\n",
       "    <tr>\n",
       "      <th>75%</th>\n",
       "      <td>654.922500</td>\n",
       "      <td>662.587500</td>\n",
       "      <td>644.800000</td>\n",
       "    </tr>\n",
       "    <tr>\n",
       "      <th>max</th>\n",
       "      <td>816.680000</td>\n",
       "      <td>816.680000</td>\n",
       "      <td>805.140000</td>\n",
       "    </tr>\n",
       "  </tbody>\n",
       "</table>\n",
       "</div>"
      ],
      "text/plain": [
       "              Open         High          Low\n",
       "count  1258.000000  1258.000000  1258.000000\n",
       "mean    533.709833   537.880223   529.007409\n",
       "std     151.904442   153.008811   150.552807\n",
       "min     279.120000   281.210000   277.220000\n",
       "25%     404.115000   406.765000   401.765000\n",
       "50%     537.470000   540.750000   532.990000\n",
       "75%     654.922500   662.587500   644.800000\n",
       "max     816.680000   816.680000   805.140000"
      ]
     },
     "execution_count": 5,
     "metadata": {},
     "output_type": "execute_result"
    }
   ],
   "source": [
    "# to check statistical description\n",
    "df.describe()"
   ]
  },
  {
   "cell_type": "code",
   "execution_count": 6,
   "id": "154d266b",
   "metadata": {},
   "outputs": [
    {
     "data": {
      "text/html": [
       "<div>\n",
       "<style scoped>\n",
       "    .dataframe tbody tr th:only-of-type {\n",
       "        vertical-align: middle;\n",
       "    }\n",
       "\n",
       "    .dataframe tbody tr th {\n",
       "        vertical-align: top;\n",
       "    }\n",
       "\n",
       "    .dataframe thead th {\n",
       "        text-align: right;\n",
       "    }\n",
       "</style>\n",
       "<table border=\"1\" class=\"dataframe\">\n",
       "  <thead>\n",
       "    <tr style=\"text-align: right;\">\n",
       "      <th></th>\n",
       "      <th>Date</th>\n",
       "      <th>Open</th>\n",
       "      <th>High</th>\n",
       "      <th>Low</th>\n",
       "      <th>Close</th>\n",
       "      <th>Volume</th>\n",
       "    </tr>\n",
       "  </thead>\n",
       "  <tbody>\n",
       "    <tr>\n",
       "      <th>0</th>\n",
       "      <td>01-03-2012</td>\n",
       "      <td>325.25</td>\n",
       "      <td>332.83</td>\n",
       "      <td>324.97</td>\n",
       "      <td>663.59</td>\n",
       "      <td>73,80,500</td>\n",
       "    </tr>\n",
       "    <tr>\n",
       "      <th>1</th>\n",
       "      <td>01-04-2012</td>\n",
       "      <td>331.27</td>\n",
       "      <td>333.87</td>\n",
       "      <td>329.08</td>\n",
       "      <td>666.45</td>\n",
       "      <td>57,49,400</td>\n",
       "    </tr>\n",
       "    <tr>\n",
       "      <th>2</th>\n",
       "      <td>01-05-2012</td>\n",
       "      <td>329.83</td>\n",
       "      <td>330.75</td>\n",
       "      <td>326.89</td>\n",
       "      <td>657.21</td>\n",
       "      <td>65,90,300</td>\n",
       "    </tr>\n",
       "    <tr>\n",
       "      <th>3</th>\n",
       "      <td>01-06-2012</td>\n",
       "      <td>328.34</td>\n",
       "      <td>328.77</td>\n",
       "      <td>323.68</td>\n",
       "      <td>648.24</td>\n",
       "      <td>54,05,900</td>\n",
       "    </tr>\n",
       "    <tr>\n",
       "      <th>4</th>\n",
       "      <td>01-09-2012</td>\n",
       "      <td>322.04</td>\n",
       "      <td>322.29</td>\n",
       "      <td>309.46</td>\n",
       "      <td>620.76</td>\n",
       "      <td>1,16,88,800</td>\n",
       "    </tr>\n",
       "  </tbody>\n",
       "</table>\n",
       "</div>"
      ],
      "text/plain": [
       "         Date    Open    High     Low   Close       Volume\n",
       "0  01-03-2012  325.25  332.83  324.97  663.59    73,80,500\n",
       "1  01-04-2012  331.27  333.87  329.08  666.45    57,49,400\n",
       "2  01-05-2012  329.83  330.75  326.89  657.21    65,90,300\n",
       "3  01-06-2012  328.34  328.77  323.68  648.24    54,05,900\n",
       "4  01-09-2012  322.04  322.29  309.46  620.76  1,16,88,800"
      ]
     },
     "execution_count": 6,
     "metadata": {},
     "output_type": "execute_result"
    }
   ],
   "source": [
    "# to see first 5 rows\n",
    "df.head()"
   ]
  },
  {
   "cell_type": "code",
   "execution_count": 7,
   "id": "34c441e0",
   "metadata": {},
   "outputs": [
    {
     "data": {
      "text/plain": [
       "'97,06,300'"
      ]
     },
     "execution_count": 7,
     "metadata": {},
     "output_type": "execute_result"
    }
   ],
   "source": [
    "# to see maximum volume\n",
    "df['Volume'].max()"
   ]
  },
  {
   "cell_type": "code",
   "execution_count": 8,
   "id": "cc90195d",
   "metadata": {},
   "outputs": [
    {
     "data": {
      "text/plain": [
       "'1,00,12,700'"
      ]
     },
     "execution_count": 8,
     "metadata": {},
     "output_type": "execute_result"
    }
   ],
   "source": [
    "df['Volume'].min()"
   ]
  },
  {
   "cell_type": "code",
   "execution_count": 9,
   "id": "60f511f1",
   "metadata": {},
   "outputs": [
    {
     "data": {
      "text/plain": [
       "Date      0\n",
       "Open      0\n",
       "High      0\n",
       "Low       0\n",
       "Close     0\n",
       "Volume    0\n",
       "dtype: int64"
      ]
     },
     "execution_count": 9,
     "metadata": {},
     "output_type": "execute_result"
    }
   ],
   "source": [
    "# to check null values\n",
    "df.isnull().sum()"
   ]
  },
  {
   "cell_type": "code",
   "execution_count": 10,
   "id": "3380291f",
   "metadata": {},
   "outputs": [],
   "source": [
    "# As we don't have null values so we need not to do any data engineering part and encoding part as \n",
    "#we have numerical values to predict the pricr"
   ]
  },
  {
   "cell_type": "markdown",
   "id": "6e296e1b",
   "metadata": {},
   "source": [
    "# Training on Open price column"
   ]
  },
  {
   "cell_type": "code",
   "execution_count": 11,
   "id": "40fbff2a",
   "metadata": {},
   "outputs": [
    {
     "data": {
      "text/plain": [
       "array([[325.25],\n",
       "       [331.27],\n",
       "       [329.83],\n",
       "       ...,\n",
       "       [793.7 ],\n",
       "       [783.33],\n",
       "       [782.75]])"
      ]
     },
     "execution_count": 11,
     "metadata": {},
     "output_type": "execute_result"
    }
   ],
   "source": [
    "#Now to use open price column for training-\n",
    "train_df = df.iloc[:,1:2].values\n",
    "train_df\n"
   ]
  },
  {
   "cell_type": "code",
   "execution_count": 12,
   "id": "818526ab",
   "metadata": {},
   "outputs": [
    {
     "data": {
      "text/plain": [
       "(1258, 1)"
      ]
     },
     "execution_count": 12,
     "metadata": {},
     "output_type": "execute_result"
    }
   ],
   "source": [
    "train_df.shape"
   ]
  },
  {
   "cell_type": "markdown",
   "id": "59f0af8a",
   "metadata": {},
   "source": [
    "# Normalization"
   ]
  },
  {
   "cell_type": "code",
   "execution_count": 13,
   "id": "58a5fd32",
   "metadata": {},
   "outputs": [],
   "source": [
    "from sklearn.preprocessing import MinMaxScaler\n",
    "scaler=MinMaxScaler(feature_range=(0,1))\n",
    "scaled_train_df=scaler.fit_transform(train_df)"
   ]
  },
  {
   "cell_type": "code",
   "execution_count": 14,
   "id": "6d2c5554",
   "metadata": {},
   "outputs": [
    {
     "data": {
      "text/plain": [
       "array([[0.08581368],\n",
       "       [0.09701243],\n",
       "       [0.09433366],\n",
       "       ...,\n",
       "       [0.95725128],\n",
       "       [0.93796041],\n",
       "       [0.93688146]])"
      ]
     },
     "execution_count": 14,
     "metadata": {},
     "output_type": "execute_result"
    }
   ],
   "source": [
    "scaled_train_df"
   ]
  },
  {
   "cell_type": "code",
   "execution_count": 15,
   "id": "5ab6fcc5",
   "metadata": {},
   "outputs": [],
   "source": [
    "#creating X_train and y_train\n",
    "x_train=[]\n",
    "y_train=[]\n",
    "for j in range(60,1258):\n",
    "    x_train.append(scaled_train_df[j-60:j,0])\n",
    "    y_train.append(scaled_train_df[j,0])\n",
    "x_train=np.array(x_train) \n",
    "y_train=np.array(y_train)  "
   ]
  },
  {
   "cell_type": "code",
   "execution_count": 16,
   "id": "5ffd7051",
   "metadata": {},
   "outputs": [
    {
     "data": {
      "text/plain": [
       "((1198, 60), (1198,))"
      ]
     },
     "execution_count": 16,
     "metadata": {},
     "output_type": "execute_result"
    }
   ],
   "source": [
    "# to see their shape\n",
    "x_train.shape,y_train.shape"
   ]
  },
  {
   "cell_type": "code",
   "execution_count": 17,
   "id": "b30fdadb",
   "metadata": {},
   "outputs": [],
   "source": [
    "# To reshape the data\n",
    "x_train=np.reshape(x_train,(x_train.shape[0],x_train.shape[1],1))"
   ]
  },
  {
   "cell_type": "code",
   "execution_count": 18,
   "id": "327bfa12",
   "metadata": {},
   "outputs": [
    {
     "data": {
      "text/plain": [
       "(1198, 60, 1)"
      ]
     },
     "execution_count": 18,
     "metadata": {},
     "output_type": "execute_result"
    }
   ],
   "source": [
    "x_train.shape"
   ]
  },
  {
   "cell_type": "markdown",
   "id": "f7d5c025",
   "metadata": {},
   "source": [
    "# Model Building with LSTM"
   ]
  },
  {
   "cell_type": "code",
   "execution_count": 19,
   "id": "35e29081",
   "metadata": {},
   "outputs": [],
   "source": [
    "from keras.models import Sequential\n",
    "from keras.layers import LSTM\n",
    "from keras.layers import Dense\n",
    "from keras.layers import Dropout"
   ]
  },
  {
   "cell_type": "code",
   "execution_count": 20,
   "id": "624116a7",
   "metadata": {},
   "outputs": [],
   "source": [
    "reg=Sequential()\n",
    "reg.add(LSTM(units=50,return_sequences=True,input_shape=(x_train.shape[1],1)))\n",
    "reg.add(Dropout(0.2))\n",
    "reg.add(LSTM(units=50,return_sequences=True))\n",
    "reg.add(Dropout(0.2))\n",
    "reg.add(LSTM(units=50,return_sequences=True))\n",
    "reg.add(Dropout(0.2))\n",
    "reg.add(LSTM(units=50))\n",
    "reg.add(Dropout(0.2))\n",
    "reg.add(Dense(units=1))"
   ]
  },
  {
   "cell_type": "markdown",
   "id": "6acfea09",
   "metadata": {},
   "source": [
    "# Model Fitting"
   ]
  },
  {
   "cell_type": "code",
   "execution_count": 21,
   "id": "2e827856",
   "metadata": {},
   "outputs": [
    {
     "name": "stdout",
     "output_type": "stream",
     "text": [
      "Epoch 1/50\n",
      "40/40 [==============================] - 23s 194ms/step - loss: 0.0428\n",
      "Epoch 2/50\n",
      "40/40 [==============================] - 8s 195ms/step - loss: 0.0065\n",
      "Epoch 3/50\n",
      "40/40 [==============================] - 8s 196ms/step - loss: 0.0059\n",
      "Epoch 4/50\n",
      "40/40 [==============================] - 7s 182ms/step - loss: 0.0061\n",
      "Epoch 5/50\n",
      "40/40 [==============================] - 8s 198ms/step - loss: 0.0064\n",
      "Epoch 6/50\n",
      "40/40 [==============================] - 8s 199ms/step - loss: 0.0048\n",
      "Epoch 7/50\n",
      "40/40 [==============================] - 8s 196ms/step - loss: 0.0050\n",
      "Epoch 8/50\n",
      "40/40 [==============================] - 8s 195ms/step - loss: 0.0052\n",
      "Epoch 9/50\n",
      "40/40 [==============================] - 8s 197ms/step - loss: 0.0049\n",
      "Epoch 10/50\n",
      "40/40 [==============================] - 7s 187ms/step - loss: 0.0043\n",
      "Epoch 11/50\n",
      "40/40 [==============================] - 8s 194ms/step - loss: 0.0045\n",
      "Epoch 12/50\n",
      "40/40 [==============================] - 8s 190ms/step - loss: 0.0042\n",
      "Epoch 13/50\n",
      "40/40 [==============================] - 8s 194ms/step - loss: 0.0041\n",
      "Epoch 14/50\n",
      "40/40 [==============================] - 8s 194ms/step - loss: 0.0040\n",
      "Epoch 15/50\n",
      "40/40 [==============================] - 8s 193ms/step - loss: 0.0043\n",
      "Epoch 16/50\n",
      "40/40 [==============================] - 8s 193ms/step - loss: 0.0040\n",
      "Epoch 17/50\n",
      "40/40 [==============================] - 8s 195ms/step - loss: 0.0039\n",
      "Epoch 18/50\n",
      "40/40 [==============================] - 8s 192ms/step - loss: 0.0040\n",
      "Epoch 19/50\n",
      "40/40 [==============================] - 8s 195ms/step - loss: 0.0037\n",
      "Epoch 20/50\n",
      "40/40 [==============================] - 8s 189ms/step - loss: 0.0041\n",
      "Epoch 21/50\n",
      "40/40 [==============================] - 8s 194ms/step - loss: 0.0033\n",
      "Epoch 22/50\n",
      "40/40 [==============================] - 8s 193ms/step - loss: 0.0033\n",
      "Epoch 23/50\n",
      "40/40 [==============================] - 8s 193ms/step - loss: 0.0035\n",
      "Epoch 24/50\n",
      "40/40 [==============================] - 7s 188ms/step - loss: 0.0032\n",
      "Epoch 25/50\n",
      "40/40 [==============================] - 8s 192ms/step - loss: 0.0034\n",
      "Epoch 26/50\n",
      "40/40 [==============================] - 8s 194ms/step - loss: 0.0034\n",
      "Epoch 27/50\n",
      "40/40 [==============================] - 8s 192ms/step - loss: 0.0029\n",
      "Epoch 28/50\n",
      "40/40 [==============================] - 8s 192ms/step - loss: 0.0032\n",
      "Epoch 29/50\n",
      "40/40 [==============================] - 8s 190ms/step - loss: 0.0032\n",
      "Epoch 30/50\n",
      "40/40 [==============================] - 8s 193ms/step - loss: 0.0031\n",
      "Epoch 31/50\n",
      "40/40 [==============================] - 8s 194ms/step - loss: 0.0031\n",
      "Epoch 32/50\n",
      "40/40 [==============================] - 8s 191ms/step - loss: 0.0031\n",
      "Epoch 33/50\n",
      "40/40 [==============================] - 8s 192ms/step - loss: 0.0030\n",
      "Epoch 34/50\n",
      "40/40 [==============================] - 8s 194ms/step - loss: 0.0029\n",
      "Epoch 35/50\n",
      "40/40 [==============================] - 8s 191ms/step - loss: 0.0029\n",
      "Epoch 36/50\n",
      "40/40 [==============================] - 8s 191ms/step - loss: 0.0030\n",
      "Epoch 37/50\n",
      "40/40 [==============================] - 7s 186ms/step - loss: 0.0032\n",
      "Epoch 38/50\n",
      "40/40 [==============================] - 8s 190ms/step - loss: 0.0028\n",
      "Epoch 39/50\n",
      "40/40 [==============================] - 7s 181ms/step - loss: 0.0028\n",
      "Epoch 40/50\n",
      "40/40 [==============================] - 7s 179ms/step - loss: 0.0025\n",
      "Epoch 41/50\n",
      "40/40 [==============================] - 7s 177ms/step - loss: 0.0029\n",
      "Epoch 42/50\n",
      "40/40 [==============================] - 7s 179ms/step - loss: 0.0030\n",
      "Epoch 43/50\n",
      "40/40 [==============================] - 7s 187ms/step - loss: 0.0026\n",
      "Epoch 44/50\n",
      "40/40 [==============================] - 7s 174ms/step - loss: 0.0025\n",
      "Epoch 45/50\n",
      "40/40 [==============================] - 7s 186ms/step - loss: 0.0025\n",
      "Epoch 46/50\n",
      "40/40 [==============================] - 8s 191ms/step - loss: 0.0026\n",
      "Epoch 47/50\n",
      "40/40 [==============================] - 7s 178ms/step - loss: 0.0023\n",
      "Epoch 48/50\n",
      "40/40 [==============================] - 7s 181ms/step - loss: 0.0024\n",
      "Epoch 49/50\n",
      "40/40 [==============================] - 7s 185ms/step - loss: 0.0028\n",
      "Epoch 50/50\n",
      "40/40 [==============================] - 8s 192ms/step - loss: 0.0023\n"
     ]
    },
    {
     "data": {
      "text/plain": [
       "<keras.src.callbacks.History at 0x23ceb4dd960>"
      ]
     },
     "execution_count": 21,
     "metadata": {},
     "output_type": "execute_result"
    }
   ],
   "source": [
    "reg.compile(optimizer='adam',loss='mean_squared_error')\n",
    "reg.fit(x_train,y_train,epochs=50,batch_size=30)"
   ]
  },
  {
   "cell_type": "code",
   "execution_count": 31,
   "id": "c0545003",
   "metadata": {},
   "outputs": [],
   "source": [
    "#extracting actual stock prices as test data\n",
    "df_test=pd.read_csv(\"Stock_Price_Test.csv\")\n",
    "ac_stock=df_test.iloc[:,1:2].values"
   ]
  },
  {
   "cell_type": "code",
   "execution_count": 32,
   "id": "153e7563",
   "metadata": {},
   "outputs": [],
   "source": [
    "df_total=pd.concat((df['Open'],df_test['Open']),axis=0)\n",
    "inputs=df_total[len(df_total)-len(df_test)-60:].values\n",
    "inputs=inputs.reshape(-1,1)\n",
    "inputs=scaler.transform(inputs)\n",
    "x_test=[]\n",
    "for j in range(60,80):\n",
    "    x_test.append(inputs[j-60:j,0])\n",
    "x_test=np.array(x_test)    \n",
    "x_test=np.reshape(x_test,(x_test.shape[0],x_test.shape[1],1))\n",
    "    \n",
    "\n",
    "\n",
    "\n",
    "\n"
   ]
  },
  {
   "cell_type": "code",
   "execution_count": 33,
   "id": "5e4105c0",
   "metadata": {},
   "outputs": [
    {
     "name": "stdout",
     "output_type": "stream",
     "text": [
      "1/1 [==============================] - 4s 4s/step\n"
     ]
    }
   ],
   "source": [
    "predicted=reg.predict(x_test)\n",
    "predicted=scaler.inverse_transform(predicted)"
   ]
  },
  {
   "cell_type": "code",
   "execution_count": 35,
   "id": "f6072c46",
   "metadata": {},
   "outputs": [
    {
     "data": {
      "image/png": "[encoded data removed]",
      "text/plain": [
       "<Figure size 432x288 with 1 Axes>"
      ]
     },
     "metadata": {
      "needs_background": "light"
     },
     "output_type": "display_data"
    }
   ],
   "source": [
    "#plotting actual vs predicted prices\n",
    "plt.plot(ac_stock,color='green',label='actual stock price')\n",
    "plt.plot(predicted,color='blue',label='predicted stock price')\n",
    "plt.title(\"STOCK PRICE PREDICTION\")\n",
    "plt.xlabel(\"time\")\n",
    "plt.ylabel(\"stock prices\")\n",
    "plt.legend()\n",
    "plt.show()"
   ]
  },
  {
   "cell_type": "code",
   "execution_count": null,
   "id": "5be45c1e",
   "metadata": {},
   "outputs": [],
   "source": [
    "# Here, we can clearly sees that the predicted price are little bit close to actual ones"
   ]
  }
 ],
 "metadata": {
  "kernelspec": {
   "display_name": "Python 3 (ipykernel)",
   "language": "python",
   "name": "python3"
  },
  "language_info": {
   "codemirror_mode": {
    "name": "ipython",
    "version": 3
   },
   "file_extension": ".py",
   "mimetype": "text/x-python",
   "name": "python",
   "nbconvert_exporter": "python",
   "pygments_lexer": "ipython3",
   "version": "3.10.2"
  },
  "varInspector": {
   "cols": {
    "lenName": 16,
    "lenType": 16,
    "lenVar": 40
   },
   "kernels_config": {
    "python": {
     "delete_cmd_postfix": "",
     "delete_cmd_prefix": "del ",
     "library": "var_list.py",
     "varRefreshCmd": "print(var_dic_list())"
    },
    "r": {
     "delete_cmd_postfix": ") ",
     "delete_cmd_prefix": "rm(",
     "library": "var_list.r",
     "varRefreshCmd": "cat(var_dic_list()) "
    }
   },
   "types_to_exclude": [
    "module",
    "function",
    "builtin_function_or_method",
    "instance",
    "_Feature"
   ],
   "window_display": false
  }
 },
 "nbformat": 4,
 "nbformat_minor": 5
}
